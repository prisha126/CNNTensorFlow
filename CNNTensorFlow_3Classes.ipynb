{
  "cells": [
    {
      "cell_type": "markdown",
      "metadata": {
        "id": "view-in-github",
        "colab_type": "text"
      },
      "source": [
        "<a href=\"https://colab.research.google.com/github/prisha126/CNNTensorFlow/blob/main/CNNTensorFlow_3Classes.ipynb\" target=\"_parent\"><img src=\"https://colab.research.google.com/assets/colab-badge.svg\" alt=\"Open In Colab\"/></a>"
      ]
    },
    {
      "cell_type": "markdown",
      "id": "6ec79107",
      "metadata": {
        "id": "6ec79107"
      },
      "source": [
        "Copyright (c) 2022 AIClub\n",
        "\n",
        "Permission is hereby granted, free of charge, to any person obtaining a copy of this software and associated\n",
        "documentation files (the \"Software\"), to deal in the Software without restriction, including without\n",
        "limitation the rights to use, copy, modify, merge, publish, distribute, sublicense, and/or sell copies of\n",
        "the Software, and to permit persons to whom the Software is furnished to do so, subject to the following\n",
        "conditions:\n",
        "\n",
        "The above copyright notice and this permission notice shall be included in all copies or substantial\n",
        "portions of the Software.\n",
        "\n",
        "THE SOFTWARE IS PROVIDED \"AS IS\", WITHOUT WARRANTY OF ANY KIND, EXPRESS OR IMPLIED, INCLUDING BUT NOT\n",
        "LIMITED TO THE WARRANTIES OF MERCHANTABILITY, FITNESS FOR A PARTICULAR PURPOSE AND NONINFRINGEMENT. IN NO\n",
        "EVENT SHALL THE AUTHORS OR COPYRIGHT HOLDERS BE LIABLE FOR ANY CLAIM, DAMAGES OR OTHER LIABILITY, WHETHER IN\n",
        "AN ACTION OF CONTRACT, TORT OR OTHERWISE, ARISING FROM, OUT OF OR IN CONNECTION WITH THE SOFTWARE OR THE USE\n",
        "OR OTHER DEALINGS IN THE SOFTWARE.\n",
        "\n",
        "Follow our courses - https://www.corp.aiclub.world/courses\n",
        "\n"
      ]
    },
    {
      "cell_type": "code",
      "execution_count": 40,
      "id": "536af44b",
      "metadata": {
        "id": "536af44b",
        "colab": {
          "base_uri": "https://localhost:8080/"
        },
        "outputId": "111fbb44-2625-4079-c262-0c304419e039"
      },
      "outputs": [
        {
          "output_type": "stream",
          "name": "stdout",
          "text": [
            "Drive already mounted at /content/drive; to attempt to forcibly remount, call drive.mount(\"/content/drive\", force_remount=True).\n"
          ]
        }
      ],
      "source": [
        "\n",
        "from google.colab import drive\n",
        "drive.mount('/content/drive')\n"
      ]
    },
    {
      "cell_type": "code",
      "execution_count": 52,
      "id": "aed518d1",
      "metadata": {
        "id": "aed518d1"
      },
      "outputs": [],
      "source": [
        "# Please replace the brackets below with the drive location of your folder which included subfolders for images\n",
        "# Sample path: /content/drive/My Drive/ImageClassification\n",
        "PATH = '/content/drive/My Drive/3SportsBalls/train'\n"
      ]
    },
    {
      "cell_type": "code",
      "execution_count": 42,
      "id": "ffed4ba9",
      "metadata": {
        "id": "ffed4ba9"
      },
      "outputs": [],
      "source": [
        "def create_model(base_model, num_classes):\n",
        "    import tensorflow as tf\n",
        "    # Grab the last layer and add a few extra layers to it\n",
        "    x=base_model.output\n",
        "    x=GlobalAveragePooling2D()(x)\n",
        "    # Dense layer 1\n",
        "    x=tf.keras.layers.Dense(100,activation='relu', kernel_initializer=tf.keras.initializers.VarianceScaling(), use_bias=True)(x)\n",
        "\n",
        "    # Dense layer 2\n",
        "    x=tf.keras.layers.Dense(50,activation='relu', kernel_initializer=tf.keras.initializers.VarianceScaling(), use_bias=True)(x)\n",
        "\n",
        "    # Final layer with softmax activation\n",
        "    preds=tf.keras.layers.Dense(num_classes,activation='softmax', kernel_initializer=tf.keras.initializers.VarianceScaling(), use_bias=False)(x)\n",
        "\n",
        "    # Create the final model\n",
        "    model=Model(inputs=base_model.input,outputs=preds)\n",
        "    return model\n"
      ]
    },
    {
      "cell_type": "code",
      "execution_count": 43,
      "id": "281ba2ae",
      "metadata": {
        "id": "281ba2ae"
      },
      "outputs": [],
      "source": [
        "def get_optimizer(optimizer_name, learning_rate):\n",
        "    # Import keras optimizers\n",
        "    from tensorflow.keras.optimizers import Adam, Adadelta, Adagrad, Adamax, Ftrl, Nadam, RMSprop, SGD\n",
        "    print('Selected Optimizer', optimizer_name)\n",
        "    switcher = {\n",
        "        'Adadelta': Adadelta(learning_rate=learning_rate),\n",
        "        'Adagrad': Adagrad(learning_rate=learning_rate),\n",
        "        'Adam': Adam(learning_rate=learning_rate),\n",
        "        'Adamax': Adamax(learning_rate=learning_rate),\n",
        "        'FTRL': Ftrl(learning_rate=learning_rate),\n",
        "        'NAdam': Nadam(learning_rate=learning_rate),\n",
        "        'RMSprop': RMSprop(learning_rate=learning_rate),\n",
        "        'Gradient Descent': SGD(learning_rate=learning_rate)\n",
        "    }\n",
        "    # If optimizer_name is empty, Adam will be return as default optimizer\n",
        "    return switcher.get(optimizer_name, Adam(learning_rate=learning_rate))\n"
      ]
    },
    {
      "cell_type": "code",
      "execution_count": 46,
      "id": "f54a24cd",
      "metadata": {
        "id": "f54a24cd",
        "colab": {
          "base_uri": "https://localhost:8080/"
        },
        "outputId": "d2f96d56-a147-49a2-8166-0c05cf61580a"
      },
      "outputs": [
        {
          "output_type": "stream",
          "name": "stdout",
          "text": [
            "Found 48 images belonging to 3 classes.\n",
            "Found 12 images belonging to 3 classes.\n",
            "154\n",
            "Selected Optimizer Adam\n"
          ]
        }
      ],
      "source": [
        "# Import packages needed to create a image classification model\n",
        "import matplotlib.pyplot as plt\n",
        "import numpy as np\n",
        "import os\n",
        "import tensorflow as tf\n",
        "from keras.applications.resnet import preprocess_input\n",
        "from tensorflow.keras.preprocessing.image import ImageDataGenerator\n",
        "from keras.layers import Dense,GlobalAveragePooling2D\n",
        "from keras.models import Model\n",
        "from tensorflow.keras import regularizers\n",
        "\n",
        "from tensorflow.keras.preprocessing import image_dataset_from_directory\n",
        "from keras.callbacks import EarlyStopping\n",
        "from tensorflow import keras\n",
        "\n",
        "# Initialize hyper params\n",
        "epochs = 35 #<-- increase for higher accuracy\n",
        "base_learning_rate = 0.0005 #decrease for different results; use excel sheet to note down results from each change to learning rate and epochs\n",
        "optimizer = 'Adam'\n",
        "BATCH_SIZE = 25\n",
        "\n",
        "IMG_SIZE = (224, 224)\n",
        "\n",
        "# Create the data generation pipeline for training and validation\n",
        "train_datagen = ImageDataGenerator(preprocessing_function=preprocess_input, validation_split=0.2) # set validation split\n",
        "\n",
        "train_generator = train_datagen.flow_from_directory(PATH,\n",
        "                                                target_size=IMG_SIZE,\n",
        "                                                color_mode='rgb',\n",
        "                                                batch_size=BATCH_SIZE,\n",
        "                                                class_mode='categorical',\n",
        "                                                shuffle=True,\n",
        "                                                subset = 'training')\n",
        "validation_generator = train_datagen.flow_from_directory(PATH,\n",
        "                                                target_size=IMG_SIZE,\n",
        "                                                color_mode='rgb',\n",
        "                                                batch_size=BATCH_SIZE,\n",
        "                                                class_mode='categorical',\n",
        "                                                shuffle=True,\n",
        "                                                subset = 'validation')\n",
        "\n",
        "# Download the model, valid alpha values [0.25,0.35,0.5,0.75,1]\n",
        "base_model = tf.keras.applications.mobilenet_v2.MobileNetV2(input_shape=(224, 224, 3), include_top=False, weights='imagenet', alpha=0.35)\n",
        "\n",
        "for layer in base_model.layers:\n",
        "    layer.trainable=False\n",
        "\n",
        "# Specify the number of classes\n",
        "num_classes = 3\n",
        "\n",
        "# Create the base model\n",
        "model = create_model(base_model,num_classes)\n",
        "\n",
        "print(len(base_model.layers))\n",
        "\n",
        "model.compile(optimizer = get_optimizer(optimizer_name=optimizer,learning_rate=base_learning_rate),loss='CategoricalCrossentropy',metrics=['accuracy'])\n",
        "# Adam optimizer\n",
        "# loss function will be categorical cross entropy\n",
        "# evaluation metric will be accuracy\n",
        "\n",
        "early_stopping_monitor = EarlyStopping(\n",
        "    monitor='val_loss',\n",
        "    min_delta=0,\n",
        "    patience=30,\n",
        "    verbose=0,\n",
        "    mode='auto',\n",
        "    baseline=None,\n",
        "    restore_best_weights=True\n",
        ")\n",
        "\n",
        "step_size_train = train_generator.n//train_generator.batch_size\n",
        "history_fine = model.fit(train_generator,\n",
        "                        epochs=epochs,\n",
        "                        callbacks=[early_stopping_monitor],\n",
        "                        validation_data = validation_generator,\n",
        "                        verbose=0)\n",
        "\n"
      ]
    },
    {
      "cell_type": "code",
      "execution_count": 47,
      "id": "dd9a4d56",
      "metadata": {
        "id": "dd9a4d56",
        "colab": {
          "base_uri": "https://localhost:8080/"
        },
        "outputId": "4f842344-078a-4bef-c593-d59442fcd652"
      },
      "outputs": [
        {
          "output_type": "stream",
          "name": "stdout",
          "text": [
            "Training Accuracy:  [0.3958333432674408, 0.7291666865348816, 0.8541666865348816, 0.8958333134651184, 0.9375, 0.9375, 0.9583333134651184, 0.9791666865348816, 1.0, 1.0, 1.0, 1.0, 1.0, 1.0, 1.0, 1.0, 1.0, 1.0, 1.0, 1.0, 1.0, 1.0, 1.0, 1.0, 1.0, 1.0, 1.0, 1.0, 1.0, 1.0, 1.0, 1.0, 1.0, 1.0, 1.0, 1.0, 1.0, 1.0, 1.0, 1.0]\n",
            "Validation Accuracy:  [0.5, 0.3333333432674408, 0.4166666567325592, 0.5, 0.5, 0.5, 0.5, 0.4166666567325592, 0.5, 0.5, 0.5, 0.5, 0.5, 0.5, 0.5, 0.5833333134651184, 0.5833333134651184, 0.5833333134651184, 0.5833333134651184, 0.5833333134651184, 0.5833333134651184, 0.5833333134651184, 0.5833333134651184, 0.5833333134651184, 0.5833333134651184, 0.5833333134651184, 0.5833333134651184, 0.5833333134651184, 0.5833333134651184, 0.5833333134651184, 0.5833333134651184, 0.5833333134651184, 0.5833333134651184, 0.5833333134651184, 0.5833333134651184, 0.5833333134651184, 0.5833333134651184, 0.5833333134651184, 0.5833333134651184, 0.5833333134651184]\n",
            "Training Loss:  [1.1110507249832153, 0.9389330744743347, 0.8064641952514648, 0.681887149810791, 0.5584074854850769, 0.45742592215538025, 0.36343133449554443, 0.28455331921577454, 0.21991872787475586, 0.17562568187713623, 0.13789445161819458, 0.10638841241598129, 0.08214258402585983, 0.06526976823806763, 0.051504265516996384, 0.04039018973708153, 0.03219304606318474, 0.026503851637244225, 0.02201022207736969, 0.018209613859653473, 0.015278592705726624, 0.01288409810513258, 0.011240363121032715, 0.009900469332933426, 0.008714835159480572, 0.0077439877204597, 0.006871894467622042, 0.006264483090490103, 0.005785693880170584, 0.005263394210487604, 0.004877118859440088, 0.004522586241364479, 0.0042594559490680695, 0.0039773788303136826, 0.003759542480111122, 0.0035867856349796057, 0.0033999066799879074, 0.00325772981159389, 0.0030785230919718742, 0.002967798849567771]\n",
            "Validation Loss:  [1.0843086242675781, 1.0817543268203735, 1.0731431245803833, 1.0727912187576294, 1.0797157287597656, 1.0885728597640991, 1.0802562236785889, 1.0671072006225586, 1.057491660118103, 1.0573168992996216, 1.0609453916549683, 1.0668604373931885, 1.0791493654251099, 1.0915827751159668, 1.1032239198684692, 1.1128085851669312, 1.1229671239852905, 1.1324163675308228, 1.1414231061935425, 1.14512300491333, 1.1514174938201904, 1.1580586433410645, 1.1662105321884155, 1.1722313165664673, 1.1817580461502075, 1.1924055814743042, 1.20116126537323, 1.2099155187606812, 1.2156506776809692, 1.220435380935669, 1.2253683805465698, 1.2300704717636108, 1.234391689300537, 1.2393807172775269, 1.2435799837112427, 1.2471895217895508, 1.2513428926467896, 1.2565475702285767, 1.2607094049453735, 1.2647895812988281]\n",
            "best model accuracy:  0.5\n"
          ]
        }
      ],
      "source": [
        "\n",
        "# Import numpy for calculating best model accuracy\n",
        "import numpy as np\n",
        "# Populating matrics -> accuracy & loss\n",
        "acc = history_fine.history['accuracy']\n",
        "val_acc = history_fine.history['val_accuracy']\n",
        "\n",
        "loss = history_fine.history['loss']\n",
        "val_loss = history_fine.history['val_loss']\n",
        "\n",
        "print('Training Accuracy: ', acc)\n",
        "print('Validation Accuracy: ', val_acc)\n",
        "print('Training Loss: ', loss)\n",
        "print('Validation Loss: ', val_loss)\n",
        "best_model_accuracy = history_fine.history['val_accuracy'][np.argmin(history_fine.history['val_loss'])]\n",
        "print('best model accuracy: ', best_model_accuracy)\n"
      ]
    },
    {
      "cell_type": "code",
      "execution_count": 48,
      "id": "c8f8a8b9",
      "metadata": {
        "id": "c8f8a8b9"
      },
      "outputs": [],
      "source": [
        "def seperate_labels(generator):\n",
        "    x_validation = []\n",
        "    y_validation = []\n",
        "    num_seen = 0\n",
        "\n",
        "    for x, labels in generator:\n",
        "        x_validation.append(x)\n",
        "        y_validation.append([argmax(label) for label in labels])\n",
        "        num_seen += len(x)\n",
        "        if num_seen == generator.n: break\n",
        "\n",
        "    x_validation = np.concatenate(x_validation)\n",
        "    y_validation = np.concatenate(y_validation)\n",
        "    return x_validation, y_validation\n"
      ]
    },
    {
      "cell_type": "code",
      "execution_count": 49,
      "id": "06d92284",
      "metadata": {
        "id": "06d92284",
        "colab": {
          "base_uri": "https://localhost:8080/",
          "height": 472
        },
        "outputId": "0b4d5fb0-1826-4a90-9952-750f06d319d4"
      },
      "outputs": [
        {
          "output_type": "stream",
          "name": "stdout",
          "text": [
            "\u001b[1m1/1\u001b[0m \u001b[32m━━━━━━━━━━━━━━━━━━━━\u001b[0m\u001b[37m\u001b[0m \u001b[1m2s\u001b[0m 2s/step\n"
          ]
        },
        {
          "output_type": "display_data",
          "data": {
            "text/plain": [
              "<Figure size 640x480 with 2 Axes>"
            ],
            "image/png": "[encoded data removed]"
          },
          "metadata": {}
        }
      ],
      "source": [
        "\n",
        "# Calculate and display the confusion matrix\n",
        "import matplotlib.pyplot as plt\n",
        "from numpy.core.fromnumeric import argmax\n",
        "from sklearn.metrics import ConfusionMatrixDisplay\n",
        "\n",
        "x_validation, y_validation = seperate_labels(validation_generator)\n",
        "y_pred = model.predict(x_validation, batch_size=BATCH_SIZE)\n",
        "predictions = np.apply_along_axis(argmax, 1, y_pred)\n",
        "display_labels = validation_generator.class_indices.keys()\n",
        "\n",
        "ConfusionMatrixDisplay.from_predictions(y_validation, predictions, display_labels=display_labels, cmap=\"binary\")\n",
        "plt.show()\n"
      ]
    },
    {
      "cell_type": "code",
      "execution_count": 51,
      "id": "6993c1b9",
      "metadata": {
        "id": "6993c1b9",
        "colab": {
          "base_uri": "https://localhost:8080/"
        },
        "outputId": "a869221b-390a-4183-da16-3e60db0a2f61"
      },
      "outputs": [
        {
          "output_type": "stream",
          "name": "stdout",
          "text": [
            "\u001b[1m1/1\u001b[0m \u001b[32m━━━━━━━━━━━━━━━━━━━━\u001b[0m\u001b[37m\u001b[0m \u001b[1m4s\u001b[0m 4s/step\n",
            "[[0.6228864  0.01563167 0.3614819 ]]\n",
            "res:: 0\n",
            "['rugby_ball']\n"
          ]
        }
      ],
      "source": [
        "# Predicting code for an image\n",
        "from tensorflow.keras.preprocessing import image\n",
        "# Please replace the brackets below with the location of your image which need to predict\n",
        "img_path = '/content/drive/My Drive/SportsBalls/train/cricket_ball/cricket_ball_4.jpg'\n",
        "img = image.load_img(img_path, target_size=IMG_SIZE)\n",
        "img_array = image.img_to_array(img)\n",
        "img_batch = np.expand_dims(img_array, axis=0)\n",
        "img_preprocessed = preprocess_input(img_batch)\n",
        "prediction = model.predict(img_preprocessed)\n",
        "print(prediction)\n",
        "result = np.argmax(prediction)\n",
        "print (\"res::\",result)\n",
        "label_map = train_generator.class_indices\n",
        "res = [key for key,val in label_map.items() if val==result]\n",
        "print(res)"
      ]
    },
    {
      "cell_type": "code",
      "execution_count": null,
      "id": "25ff0d02",
      "metadata": {
        "id": "25ff0d02",
        "colab": {
          "base_uri": "https://localhost:8080/",
          "height": 356
        },
        "outputId": "50d380d6-cd59-45b3-8e27-8ade874b70f6"
      },
      "outputs": [
        {
          "output_type": "error",
          "ename": "ValueError",
          "evalue": "multiclass format is not supported",
          "traceback": [
            "\u001b[0;31m---------------------------------------------------------------------------\u001b[0m",
            "\u001b[0;31mValueError\u001b[0m                                Traceback (most recent call last)",
            "\u001b[0;32m<ipython-input-26-d27689d83577>\u001b[0m in \u001b[0;36m<cell line: 5>\u001b[0;34m()\u001b[0m\n\u001b[1;32m      3\u001b[0m \u001b[0mpredictions\u001b[0m \u001b[0;34m=\u001b[0m \u001b[0my_pred\u001b[0m\u001b[0;34m[\u001b[0m\u001b[0;34m:\u001b[0m\u001b[0;34m,\u001b[0m \u001b[0;36m1\u001b[0m\u001b[0;34m]\u001b[0m\u001b[0;34m\u001b[0m\u001b[0;34m\u001b[0m\u001b[0m\n\u001b[1;32m      4\u001b[0m \u001b[0my_true\u001b[0m \u001b[0;34m=\u001b[0m \u001b[0mvalidation_generator\u001b[0m\u001b[0;34m.\u001b[0m\u001b[0mclasses\u001b[0m\u001b[0;34m\u001b[0m\u001b[0;34m\u001b[0m\u001b[0m\n\u001b[0;32m----> 5\u001b[0;31m \u001b[0mfpr\u001b[0m\u001b[0;34m,\u001b[0m \u001b[0mtpr\u001b[0m\u001b[0;34m,\u001b[0m \u001b[0m_\u001b[0m \u001b[0;34m=\u001b[0m \u001b[0mroc_curve\u001b[0m\u001b[0;34m(\u001b[0m\u001b[0my_true\u001b[0m\u001b[0;34m,\u001b[0m \u001b[0mpredictions\u001b[0m\u001b[0;34m)\u001b[0m\u001b[0;34m\u001b[0m\u001b[0;34m\u001b[0m\u001b[0m\n\u001b[0m\u001b[1;32m      6\u001b[0m \u001b[0mauc\u001b[0m \u001b[0;34m=\u001b[0m \u001b[0mroc_auc_score\u001b[0m\u001b[0;34m(\u001b[0m\u001b[0my_true\u001b[0m\u001b[0;34m,\u001b[0m \u001b[0mpredictions\u001b[0m\u001b[0;34m)\u001b[0m\u001b[0;34m\u001b[0m\u001b[0;34m\u001b[0m\u001b[0m\n\u001b[1;32m      7\u001b[0m \u001b[0;34m\u001b[0m\u001b[0m\n",
            "\u001b[0;32m/usr/local/lib/python3.10/dist-packages/sklearn/utils/_param_validation.py\u001b[0m in \u001b[0;36mwrapper\u001b[0;34m(*args, **kwargs)\u001b[0m\n\u001b[1;32m    212\u001b[0m                     )\n\u001b[1;32m    213\u001b[0m                 ):\n\u001b[0;32m--> 214\u001b[0;31m                     \u001b[0;32mreturn\u001b[0m \u001b[0mfunc\u001b[0m\u001b[0;34m(\u001b[0m\u001b[0;34m*\u001b[0m\u001b[0margs\u001b[0m\u001b[0;34m,\u001b[0m \u001b[0;34m**\u001b[0m\u001b[0mkwargs\u001b[0m\u001b[0;34m)\u001b[0m\u001b[0;34m\u001b[0m\u001b[0;34m\u001b[0m\u001b[0m\n\u001b[0m\u001b[1;32m    215\u001b[0m             \u001b[0;32mexcept\u001b[0m \u001b[0mInvalidParameterError\u001b[0m \u001b[0;32mas\u001b[0m \u001b[0me\u001b[0m\u001b[0;34m:\u001b[0m\u001b[0;34m\u001b[0m\u001b[0;34m\u001b[0m\u001b[0m\n\u001b[1;32m    216\u001b[0m                 \u001b[0;31m# When the function is just a wrapper around an estimator, we allow\u001b[0m\u001b[0;34m\u001b[0m\u001b[0;34m\u001b[0m\u001b[0m\n",
            "\u001b[0;32m/usr/local/lib/python3.10/dist-packages/sklearn/metrics/_ranking.py\u001b[0m in \u001b[0;36mroc_curve\u001b[0;34m(y_true, y_score, pos_label, sample_weight, drop_intermediate)\u001b[0m\n\u001b[1;32m   1093\u001b[0m     \u001b[0marray\u001b[0m\u001b[0;34m(\u001b[0m\u001b[0;34m[\u001b[0m \u001b[0minf\u001b[0m\u001b[0;34m,\u001b[0m \u001b[0;36m0.8\u001b[0m \u001b[0;34m,\u001b[0m \u001b[0;36m0.4\u001b[0m \u001b[0;34m,\u001b[0m \u001b[0;36m0.35\u001b[0m\u001b[0;34m,\u001b[0m \u001b[0;36m0.1\u001b[0m \u001b[0;34m]\u001b[0m\u001b[0;34m)\u001b[0m\u001b[0;34m\u001b[0m\u001b[0;34m\u001b[0m\u001b[0m\n\u001b[1;32m   1094\u001b[0m     \"\"\"\n\u001b[0;32m-> 1095\u001b[0;31m     fps, tps, thresholds = _binary_clf_curve(\n\u001b[0m\u001b[1;32m   1096\u001b[0m         \u001b[0my_true\u001b[0m\u001b[0;34m,\u001b[0m \u001b[0my_score\u001b[0m\u001b[0;34m,\u001b[0m \u001b[0mpos_label\u001b[0m\u001b[0;34m=\u001b[0m\u001b[0mpos_label\u001b[0m\u001b[0;34m,\u001b[0m \u001b[0msample_weight\u001b[0m\u001b[0;34m=\u001b[0m\u001b[0msample_weight\u001b[0m\u001b[0;34m\u001b[0m\u001b[0;34m\u001b[0m\u001b[0m\n\u001b[1;32m   1097\u001b[0m     )\n",
            "\u001b[0;32m/usr/local/lib/python3.10/dist-packages/sklearn/metrics/_ranking.py\u001b[0m in \u001b[0;36m_binary_clf_curve\u001b[0;34m(y_true, y_score, pos_label, sample_weight)\u001b[0m\n\u001b[1;32m    802\u001b[0m     \u001b[0my_type\u001b[0m \u001b[0;34m=\u001b[0m \u001b[0mtype_of_target\u001b[0m\u001b[0;34m(\u001b[0m\u001b[0my_true\u001b[0m\u001b[0;34m,\u001b[0m \u001b[0minput_name\u001b[0m\u001b[0;34m=\u001b[0m\u001b[0;34m\"y_true\"\u001b[0m\u001b[0;34m)\u001b[0m\u001b[0;34m\u001b[0m\u001b[0;34m\u001b[0m\u001b[0m\n\u001b[1;32m    803\u001b[0m     \u001b[0;32mif\u001b[0m \u001b[0;32mnot\u001b[0m \u001b[0;34m(\u001b[0m\u001b[0my_type\u001b[0m \u001b[0;34m==\u001b[0m \u001b[0;34m\"binary\"\u001b[0m \u001b[0;32mor\u001b[0m \u001b[0;34m(\u001b[0m\u001b[0my_type\u001b[0m \u001b[0;34m==\u001b[0m \u001b[0;34m\"multiclass\"\u001b[0m \u001b[0;32mand\u001b[0m \u001b[0mpos_label\u001b[0m \u001b[0;32mis\u001b[0m \u001b[0;32mnot\u001b[0m \u001b[0;32mNone\u001b[0m\u001b[0;34m)\u001b[0m\u001b[0;34m)\u001b[0m\u001b[0;34m:\u001b[0m\u001b[0;34m\u001b[0m\u001b[0;34m\u001b[0m\u001b[0m\n\u001b[0;32m--> 804\u001b[0;31m         \u001b[0;32mraise\u001b[0m \u001b[0mValueError\u001b[0m\u001b[0;34m(\u001b[0m\u001b[0;34m\"{0} format is not supported\"\u001b[0m\u001b[0;34m.\u001b[0m\u001b[0mformat\u001b[0m\u001b[0;34m(\u001b[0m\u001b[0my_type\u001b[0m\u001b[0;34m)\u001b[0m\u001b[0;34m)\u001b[0m\u001b[0;34m\u001b[0m\u001b[0;34m\u001b[0m\u001b[0m\n\u001b[0m\u001b[1;32m    805\u001b[0m \u001b[0;34m\u001b[0m\u001b[0m\n\u001b[1;32m    806\u001b[0m     \u001b[0mcheck_consistent_length\u001b[0m\u001b[0;34m(\u001b[0m\u001b[0my_true\u001b[0m\u001b[0;34m,\u001b[0m \u001b[0my_score\u001b[0m\u001b[0;34m,\u001b[0m \u001b[0msample_weight\u001b[0m\u001b[0;34m)\u001b[0m\u001b[0;34m\u001b[0m\u001b[0;34m\u001b[0m\u001b[0m\n",
            "\u001b[0;31mValueError\u001b[0m: multiclass format is not supported"
          ]
        }
      ],
      "source": [
        "\n",
        "from sklearn.metrics import roc_curve, roc_auc_score\n",
        "\n",
        "predictions = y_pred[:, 1]\n",
        "y_true = validation_generator.classes\n",
        "fpr, tpr, _ = roc_curve(y_true, predictions)\n",
        "auc = roc_auc_score(y_true, predictions)\n",
        "\n",
        "#create ROC curve\n",
        "plt.plot(fpr,tpr,label=\"AUC=\"+str(auc))\n",
        "plt.ylabel('True Positive Rate')\n",
        "plt.xlabel('False Positive Rate')\n",
        "plt.legend(bbox_to_anchor=(1, 1.12))\n",
        "plt.show()\n"
      ]
    }
  ],
  "metadata": {
    "colab": {
      "provenance": [],
      "include_colab_link": true
    },
    "language_info": {
      "name": "python"
    },
    "kernelspec": {
      "name": "python3",
      "display_name": "Python 3"
    }
  },
  "nbformat": 4,
  "nbformat_minor": 5
}